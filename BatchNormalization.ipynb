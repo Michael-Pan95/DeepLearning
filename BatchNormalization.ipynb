{
  "nbformat": 4,
  "nbformat_minor": 0,
  "metadata": {
    "colab": {
      "name": "ANN.ipynb",
      "provenance": [],
      "collapsed_sections": []
    },
    "kernelspec": {
      "name": "python3",
      "display_name": "Python 3"
    }
  },
  "cells": [
    {
      "cell_type": "code",
      "metadata": {
        "id": "Tqt2Wt519l30"
      },
      "source": [
        "'''\n",
        "@author: Mike \n",
        "--------------\n",
        "# two layer\n",
        "# sigmoid activation\n",
        "# BN\n",
        "# MSE \n",
        "# Vanila Gradient Descent\n",
        "# target function: y = x ** 2\n",
        "'''\n",
        "import numpy as np\n",
        "import matplotlib.pyplot as plt"
      ],
      "execution_count": null,
      "outputs": []
    },
    {
      "cell_type": "code",
      "metadata": {
        "colab": {
          "base_uri": "https://localhost:8080/"
        },
        "id": "JLRbjdmr9tLC",
        "outputId": "770bc6c5-c823-4314-c018-be30cbe4be28"
      },
      "source": [
        "class BatchNorm():\n",
        "    def __init__(self, d, eps=1e-8):\n",
        "        self.gamma = np.random.rand(1, d)\n",
        "        self.beta = np.random.rand(1, d)\n",
        "        self.eps = eps\n",
        "        self.x = None\n",
        "        self.mu = None\n",
        "        self.var = None\n",
        "        self.x_hat = None\n",
        "        self.y_hat = None\n",
        "\n",
        "    def forward(self, x: np.ndarray):\n",
        "        assert x.shape[1] == self.gamma.shape[1]\n",
        "        self.x = x\n",
        "        self.mu = x.mean(axis=0, keepdims=True)\n",
        "        self.var = np.power(self.x - self.mu, 2).mean(axis=0, keepdims=True)\n",
        "        self.x_hat = (self.x - self.mu) / np.sqrt(self.var + self.eps)\n",
        "        self.y_hat = self.gamma * self.x_hat + self.beta\n",
        "        return self.y_hat\n",
        "\n",
        "    def backward(self, dy, lr):\n",
        "        assert dy.shape[1] == self.gamma.shape[1]\n",
        "        d_gamma = (dy * self.x_hat).mean(axis=0, keepdims=True)\n",
        "        d_beta = dy.mean(axis=0, keepdims=True)\n",
        "        d_x_hat = dy * self.gamma\n",
        "        m = self.x.shape[0]\n",
        "        d_x = (m ** 2 * d_x_hat - np.tile(d_x_hat.mean(axis=0, keepdims=True), (m, 1)) - self.x_hat * (\n",
        "            (d_x_hat * self.x_hat).mean(axis=0, keepdims=True)))\n",
        "        d_x = d_x / m ** 2 / np.sqrt(self.var + self.eps)\n",
        "\n",
        "        self.gamma -= lr * d_gamma\n",
        "        self.beta -= lr * d_beta\n",
        "        return d_x\n",
        "\n",
        "# generate training data\n",
        "n = 1000\n",
        "d = 1\n",
        "\n",
        "x = 20 * np.random.rand(n, d) - 10\n",
        "y = np.power(x, 2) + np.random.rand(n, d)\n",
        "print(x.shape, y.shape)\n",
        "\n",
        "# two layer\n",
        "# sigmoid activation\n",
        "# MSE\n",
        "# Vanila Gradient Descent\n",
        "\n",
        "layer = [10, 20]\n",
        "lr = 0.0001\n",
        "iter = 1000\n",
        "\n",
        "# initialize W\n",
        "layer.insert(0, x.shape[1])\n",
        "layer.append(y.shape[1])\n",
        "w1 = np.random.rand(layer[0], layer[1])  * 0.01  # 1 x 20\n",
        "b1 = np.random.rand() * 0.01\n",
        "bn1 = BatchNorm(layer[1])\n",
        "w2 = np.random.rand(layer[1], layer[2])  * 0.01  # 20 x 10\n",
        "b2 = np.random.rand() * 0.01\n",
        "bn2 = BatchNorm(layer[2])\n",
        "w3 = np.random.rand(layer[2], layer[3])  * 0.01  # 10 x 1\n",
        "# linear activation parameters\n",
        "b3_1 = np.random.rand(layer[3], 1)\n",
        "b3_2 = np.random.rand() * 0.01\n",
        "\n",
        "loss_list = []\n",
        "\n",
        "for i in range(iter):\n",
        "    # forward propagation\n",
        "    z1 = np.dot(x, w1) + b1  # n x 20\n",
        "    a1 = 1 / (1 + np.exp(-z1))  # n x 20\n",
        "\n",
        "    a1_bn = bn1.forward(a1)\n",
        "\n",
        "    z2 = np.dot(a1_bn, w2) + b2  # n x 10\n",
        "    a2 = 1 / (1 + np.exp(-z2))  # n x 10\n",
        "\n",
        "    a2_bn = bn2.forward(a2)\n",
        "\n",
        "    z3 = np.dot(a2_bn, w3)  # n x 1\n",
        "    a3 = np.dot(z3, b3_1) + b3_2  # n x 1\n",
        "\n",
        "    # loss\n",
        "    l = np.power(y - a3, 2)  # n x 1\n",
        "    avg_loss = l.mean()\n",
        "    if (i + 1) % 100 == 0:\n",
        "        print('Iter:{}\\tAvg_Loss:{:.5f}'.format(i + 1, avg_loss))\n",
        "    loss_list.append(avg_loss)\n",
        "\n",
        "    # backward propagation\n",
        "    da3 = 2 * (a3 - y)  # n x 1\n",
        "    db3_1 = (da3 * z3).mean(axis=0, keepdims=True)  # n x 1\n",
        "    db3_2 = da3.mean()\n",
        "    dz3 = da3 * b3_1  # n x 1\n",
        "    dw3 = np.dot(a2_bn.T, dz3) / n  # 10 x 1\n",
        "\n",
        "    da2_bn = np.dot(dz3, w3.T)  # n x 10\n",
        "    da2 = bn2.backward(da2_bn, lr=lr)\n",
        "\n",
        "    dz2 = da2 * a2 * (1 - a2)  # n x 10\n",
        "    db2 = dz2.mean()\n",
        "    dw2 = np.dot(a1_bn.T, dz2) / n  # 20 x 10\n",
        "\n",
        "    da1_bn = np.dot(dz2, w2.T)  # n x 20\n",
        "\n",
        "    da1 = bn1.backward(da1_bn, lr=lr)  # n x 20\n",
        "\n",
        "    dz1 = da1 * a1 * (1 - a1)  # n x 20\n",
        "    db1 = dz1.mean()\n",
        "    dw1 = np.dot(x.T, dz1) / n  # 1 x 20\n",
        "\n",
        "    w1 -= lr * dw1\n",
        "    b1 -= lr * db1\n",
        "    w2 -= lr * dw2\n",
        "    b2 -= lr * db2\n",
        "    w3 -= lr * dw3\n",
        "    b3_1 -= lr * db3_1\n",
        "    b3_2 -= lr * db3_2"
      ],
      "execution_count": null,
      "outputs": [
        {
          "output_type": "stream",
          "text": [
            "(1000, 1) (1000, 1)\n",
            "Iter:100\tAvg_Loss:1829.81060\n",
            "Iter:200\tAvg_Loss:459.26519\n",
            "Iter:300\tAvg_Loss:66.59667\n",
            "Iter:400\tAvg_Loss:267.24853\n",
            "Iter:500\tAvg_Loss:10.30638\n",
            "Iter:600\tAvg_Loss:15.13072\n",
            "Iter:700\tAvg_Loss:5.63941\n",
            "Iter:800\tAvg_Loss:2.15089\n",
            "Iter:900\tAvg_Loss:1.03482\n",
            "Iter:1000\tAvg_Loss:0.66793\n"
          ],
          "name": "stdout"
        }
      ]
    },
    {
      "cell_type": "code",
      "metadata": {
        "colab": {
          "base_uri": "https://localhost:8080/",
          "height": 265
        },
        "id": "PrKkSOpYBdpO",
        "outputId": "821a7a27-205b-48a1-936d-c79a9fffa613"
      },
      "source": [
        "c1 =plt.scatter(x,y,c='r',label='GT')\n",
        "c2 = plt.scatter(x,a3,c='b',label='y_hat')\n",
        "plt.legend()\n",
        "plt.show()"
      ],
      "execution_count": null,
      "outputs": [
        {
          "output_type": "display_data",
          "data": {
            "image/png": "[encoded data removed]",
            "text/plain": [
              "<Figure size 432x288 with 1 Axes>"
            ]
          },
          "metadata": {
            "tags": [],
            "needs_background": "light"
          }
        }
      ]
    },
    {
      "cell_type": "code",
      "metadata": {
        "id": "MaChoi6xB2pK"
      },
      "source": [
        ""
      ],
      "execution_count": null,
      "outputs": []
    }
  ]
}